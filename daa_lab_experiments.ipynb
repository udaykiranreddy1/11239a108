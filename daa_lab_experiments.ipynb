{
  "nbformat": 4,
  "nbformat_minor": 0,
  "metadata": {
    "colab": {
      "provenance": [],
      "authorship_tag": "ABX9TyNtddovnAa6DcGO9gzSennh",
      "include_colab_link": true
    },
    "kernelspec": {
      "name": "python3",
      "display_name": "Python 3"
    },
    "language_info": {
      "name": "python"
    }
  },
  "cells": [
    {
      "cell_type": "markdown",
      "metadata": {
        "id": "view-in-github",
        "colab_type": "text"
      },
      "source": [
        "<a href=\"https://colab.research.google.com/github/udaykiranreddy1/11239a108/blob/main/daa_lab_experiments.ipynb\" target=\"_parent\"><img src=\"https://colab.research.google.com/assets/colab-badge.svg\" alt=\"Open In Colab\"/></a>"
      ]
    },
    {
      "cell_type": "markdown",
      "source": [
        "1 exp"
      ],
      "metadata": {
        "id": "R_UOsN0Zv0lu"
      }
    },
    {
      "cell_type": "code",
      "execution_count": 3,
      "metadata": {
        "colab": {
          "base_uri": "https://localhost:8080/"
        },
        "id": "GAU72Ekyvw5S",
        "outputId": "2e565bdf-78f6-4c3d-8f2d-339a3581c445"
      },
      "outputs": [
        {
          "output_type": "stream",
          "name": "stdout",
          "text": [
            "enter a number2\n",
            "move disk 1 from atob\n",
            "move disk 2 from atoc\n",
            "move disk 1 from btoc\n"
          ]
        }
      ],
      "source": [
        "def tower(n, source, aux, target):\n",
        "    if n == 1:\n",
        "        print(f\"move disk 1 from {source}to{target}\")\n",
        "        return\n",
        "    tower(n - 1, source, target, aux)\n",
        "    print(f\"move disk {n} from {source}to{target}\")\n",
        "    tower(n - 1, aux, source, target)\n",
        "\n",
        "# Change 'name' to '__name__' to check if the script is the main program\n",
        "if __name__ == \"__main__\":  # Corrected the variable name to '__name__'\n",
        "    n = int(input(\"enter a number\"))\n",
        "    tower(n, 'a', 'b', 'c') # Removed the non-printable character before 'a'"
      ]
    },
    {
      "cell_type": "markdown",
      "source": [
        "2a exp"
      ],
      "metadata": {
        "id": "EJqMTKyjw-3j"
      }
    },
    {
      "cell_type": "code",
      "source": [
        "def fib(n):\n",
        "    if n<=1:\n",
        "        return n\n",
        "    else:\n",
        "        return fib(n-1)+fib(n-2)\n",
        "n=int(input(\"enter a number:\"))\n",
        "for i in range(n):\n",
        "    print(fib(i),end=\"  \")"
      ],
      "metadata": {
        "colab": {
          "base_uri": "https://localhost:8080/"
        },
        "id": "RJHUr3BRw-l9",
        "outputId": "98dc7fd5-3c6d-45e7-fe30-e4322f60a7ca"
      },
      "execution_count": 4,
      "outputs": [
        {
          "output_type": "stream",
          "name": "stdout",
          "text": [
            "enter a number:2\n",
            "0  1  "
          ]
        }
      ]
    },
    {
      "cell_type": "markdown",
      "source": [
        "2b exp"
      ],
      "metadata": {
        "id": "6IwPo5FkxJZy"
      }
    },
    {
      "cell_type": "code",
      "source": [
        "def fib(n):\n",
        "    a,b=0,1\n",
        "    count=0\n",
        "    while count<n:\n",
        "        print(a, end=\" \")\n",
        "        temp=a+b\n",
        "        a=b\n",
        "        b=temp\n",
        "        count+=1\n",
        "n=int(input(\"enter a number:\"))\n",
        "fib(n)"
      ],
      "metadata": {
        "colab": {
          "base_uri": "https://localhost:8080/"
        },
        "id": "FXCLwRPixJND",
        "outputId": "9e9ede5f-c0f3-4604-9cd8-33a4e1d8bf9e"
      },
      "execution_count": 5,
      "outputs": [
        {
          "output_type": "stream",
          "name": "stdout",
          "text": [
            "enter a number:2\n",
            "0 1 "
          ]
        }
      ]
    },
    {
      "cell_type": "markdown",
      "source": [
        "3 exp"
      ],
      "metadata": {
        "id": "IYR0oJw8xaky"
      }
    },
    {
      "cell_type": "code",
      "source": [
        "def first_fit(items, bin_capacity):\n",
        "    bins = []\n",
        "    for item in items:\n",
        "        placed = False\n",
        "        for bin in bins:\n",
        "            if sum(bin) + item <= bin_capacity:\n",
        "                bin.append(item)\n",
        "                placed = True\n",
        "                break\n",
        "        if not placed:\n",
        "            bins.append([item])\n",
        "    return bins\n",
        "def best_fit(items, bin_capacity):\n",
        "    bins = []\n",
        "    for item in items:\n",
        "        best_bin_index = -1\n",
        "        min_space_left = bin_capacity + 1\n",
        "\n",
        "        for i, bin in enumerate(bins):\n",
        "            space_left = bin_capacity - sum(bin)\n",
        "            if space_left >= item and space_left - item < min_space_left:\n",
        "                best_bin_index = i\n",
        "                min_space_left = space_left - item\n",
        "        if best_bin_index != -1:\n",
        "            bins[best_bin_index].append(item)\n",
        "        else:\n",
        "            bins.append([item])\n",
        "    return bins\n",
        "def first_fit_decreasing(items, bin_capacity):\n",
        "    sorted_items = sorted(items, reverse=True)\n",
        "    return first_fit(sorted_items, bin_capacity)\n",
        "items = [2,5,4,7,1,3,8]\n",
        "bin_capacity = 10\n",
        "print(\"First Fit:\", first_fit(items, bin_capacity))\n",
        "print(\"Best Fit:\", best_fit(items, bin_capacity))\n",
        "print(\"First Fit Decreasing:\", first_fit_decreasing(items, bin_capacity))\n",
        "print(\"number of bins used in firstfit:\",len(first_fit(items,bin_capacity)))\n",
        "print(\"number of bins used in bestfit:\",len(best_fit(items,bin_capacity)))\n",
        "print(\"number of bins used in firstfit decreasing:\",len(first_fit_decreasing(items,bin_capacity)))"
      ],
      "metadata": {
        "colab": {
          "base_uri": "https://localhost:8080/"
        },
        "id": "ig1P7uM2xaVz",
        "outputId": "f46e6486-c622-4265-9b9a-d33ff04327da"
      },
      "execution_count": 6,
      "outputs": [
        {
          "output_type": "stream",
          "name": "stdout",
          "text": [
            "First Fit: [[2, 5, 1], [4, 3], [7], [8]]\n",
            "Best Fit: [[2, 5, 1], [4], [7, 3], [8]]\n",
            "First Fit Decreasing: [[8, 2], [7, 3], [5, 4, 1]]\n",
            "number of bins used in firstfit: 4\n",
            "number of bins used in bestfit: 4\n",
            "number of bins used in firstfit decreasing: 3\n"
          ]
        }
      ]
    },
    {
      "cell_type": "markdown",
      "source": [
        "4 exp"
      ],
      "metadata": {
        "id": "3QpwatbUxf7P"
      }
    },
    {
      "cell_type": "code",
      "source": [
        "class Item:\n",
        "    def __init__(self, value, weight):  # Corrected the initializer method name to __init__\n",
        "        self.value = value\n",
        "        self.weight = weight\n",
        "        self.ratio = value / weight\n",
        "\n",
        "def fractional_knapsack(capacity, items):\n",
        "    # Sort items by value-to-weight ratio (descending)\n",
        "    items.sort(key=lambda x: x.ratio, reverse=True)\n",
        "\n",
        "    total_value = 0.0\n",
        "    result = []\n",
        "\n",
        "    for item in items:\n",
        "        if capacity >= item.weight:\n",
        "            # Take the whole item\n",
        "            capacity -= item.weight\n",
        "            total_value += item.value\n",
        "            result.append((item.weight, item.value, 1.0))\n",
        "        else:\n",
        "            # Take a fraction of the item\n",
        "            fraction = capacity / item.weight\n",
        "            total_value += item.value * fraction\n",
        "            result.append((capacity, item.value * fraction, fraction))\n",
        "            break\n",
        "\n",
        "    return total_value, result\n",
        "\n",
        "# Example items: (value, weight)\n",
        "items = [Item(60, 10), Item(100, 20), Item(120, 30)]\n",
        "capacity = 50\n",
        "\n",
        "max_value, taken_items = fractional_knapsack(capacity, items)\n",
        "\n",
        "print(\"Maximum value in knapsack:\", max_value)\n",
        "print(\"\\nItems taken (Weight, Value, Fraction):\")\n",
        "for w, v, f in taken_items:\n",
        "    print(f\"Weight: {w}, Value: {v}, Fraction: {f}\")"
      ],
      "metadata": {
        "colab": {
          "base_uri": "https://localhost:8080/"
        },
        "id": "a1UXajnhxft-",
        "outputId": "bbbd656d-39db-4a32-eab3-121eefd3c7ce"
      },
      "execution_count": 8,
      "outputs": [
        {
          "output_type": "stream",
          "name": "stdout",
          "text": [
            "Maximum value in knapsack: 240.0\n",
            "\n",
            "Items taken (Weight, Value, Fraction):\n",
            "Weight: 10, Value: 60, Fraction: 1.0\n",
            "Weight: 20, Value: 100, Fraction: 1.0\n",
            "Weight: 20, Value: 80.0, Fraction: 0.6666666666666666\n"
          ]
        }
      ]
    },
    {
      "cell_type": "markdown",
      "source": [
        "5 exp"
      ],
      "metadata": {
        "id": "kpWg-lcUxw_x"
      }
    },
    {
      "cell_type": "code",
      "source": [
        "import sys\n",
        "INF = sys.maxsize\n",
        "def tsp_dp(dist):\n",
        "    n = len(dist)\n",
        "    dp = [[INF] * n for _ in range(1 << n)]\n",
        "    parent = [[-1] * n for _ in range(1 << n)]\n",
        "    dp[1][0] = 0\n",
        "    for mask in range(1, 1 << n):\n",
        "        for u in range(n):\n",
        "            if mask & (1 << u):\n",
        "                for v in range(n):\n",
        "                    if v != u and (mask & (1 << v)):\n",
        "                        cost = dp[mask ^ (1 << u)][v] + dist[v][u]\n",
        "                        if cost < dp[mask][u]:\n",
        "                            dp[mask][u] = cost\n",
        "                            parent[mask][u] = v\n",
        "    answer = INF\n",
        "    last_city = -1\n",
        "    for i in range(1, n):\n",
        "        cost = dp[(1 << n) - 1][i] + dist[i][0]\n",
        "        if cost < answer:\n",
        "            answer = cost\n",
        "            last_city = i\n",
        "    path = []\n",
        "    mask = (1 << n) - 1\n",
        "    while last_city != -1:\n",
        "        path.append(last_city)\n",
        "        next_city = parent[mask][last_city]\n",
        "        mask ^= (1 << last_city)\n",
        "        last_city = next_city\n",
        "    path.append(0)\n",
        "    path.reverse()\n",
        "    return answer, path\n",
        "dist = [\n",
        "    [0, 10, 15, 20],\n",
        "    [10, 0, 35, 25],\n",
        "    [15, 35, 0, 30],\n",
        "    [20, 25, 30, 0]\n",
        "]\n",
        "result, path = tsp_dp(dist)\n",
        "print(f\"Minimum cost of travelling salesman tour is: {result}\")\n",
        "print(f\"The shortest path is: {' -> '.join(map(str, path))}\")"
      ],
      "metadata": {
        "colab": {
          "base_uri": "https://localhost:8080/"
        },
        "id": "4Zur8tfYxwyJ",
        "outputId": "1203b829-8514-486b-cf0b-efb52556ec41"
      },
      "execution_count": 9,
      "outputs": [
        {
          "output_type": "stream",
          "name": "stdout",
          "text": [
            "Minimum cost of travelling salesman tour is: 80\n",
            "The shortest path is: 0 -> 0 -> 2 -> 3 -> 1\n"
          ]
        }
      ]
    },
    {
      "cell_type": "markdown",
      "source": [
        "6a exp"
      ],
      "metadata": {
        "id": "YJ-er-Fpx2tS"
      }
    },
    {
      "cell_type": "code",
      "source": [
        "import heapq\n",
        "def prims_algorithm(graph, start_vertex):\n",
        "    num_vertices = len(graph)\n",
        "    mst = []\n",
        "    total_weight = 0\n",
        "    visited = [False] * num_vertices\n",
        "    min_heap = [(0, start_vertex)]\n",
        "    while min_heap:\n",
        "        weight, vertex = heapq.heappop(min_heap)\n",
        "        if visited[vertex]:\n",
        "            continue\n",
        "        visited[vertex] = True\n",
        "        total_weight += weight\n",
        "        if weight != 0:\n",
        "            mst.append((prev_vertex, vertex, weight))\n",
        "        for neighbor, edge_weight in graph[vertex]:\n",
        "            if not visited[neighbor]:\n",
        "                heapq.heappush(min_heap, (edge_weight, neighbor))\n",
        "                prev_vertex = vertex\n",
        "    return mst, total_weight\n",
        "graph = {\n",
        "    0: [(1, 2), (3, 6)],\n",
        "    1: [(0, 2), (2, 3)],\n",
        "    2: [(1, 3), (3, 7)],\n",
        "    3: [(0, 6), (1, 8)]\n",
        "}\n",
        "start_vertex = 0\n",
        "mst, total_weight = prims_algorithm(graph, start_vertex)\n",
        "print(\"Original Graph:\")\n",
        "for vertex, edges in graph.items():\n",
        "    for neighbor, weight in edges:\n",
        "        print(f\"edge: {vertex} -> {neighbor} with weight {weight}\")\n",
        "print(\"\\nMST (Minimum Spanning Tree):\")\n",
        "for edge in mst:\n",
        "    print(f\"edge: {edge[0]} -> {edge[1]} with weight {edge[2]}\")\n",
        "print(f\"\\nTotal weight of the MST: {total_weight}\")"
      ],
      "metadata": {
        "colab": {
          "base_uri": "https://localhost:8080/"
        },
        "id": "O9-TVz__x2gS",
        "outputId": "b024e8aa-227a-4d4f-c398-331e9b202ff2"
      },
      "execution_count": 10,
      "outputs": [
        {
          "output_type": "stream",
          "name": "stdout",
          "text": [
            "Original Graph:\n",
            "edge: 0 -> 1 with weight 2\n",
            "edge: 0 -> 3 with weight 6\n",
            "edge: 1 -> 0 with weight 2\n",
            "edge: 1 -> 2 with weight 3\n",
            "edge: 2 -> 1 with weight 3\n",
            "edge: 2 -> 3 with weight 7\n",
            "edge: 3 -> 0 with weight 6\n",
            "edge: 3 -> 1 with weight 8\n",
            "\n",
            "MST (Minimum Spanning Tree):\n",
            "edge: 0 -> 1 with weight 2\n",
            "edge: 1 -> 2 with weight 3\n",
            "edge: 2 -> 3 with weight 6\n",
            "\n",
            "Total weight of the MST: 11\n"
          ]
        }
      ]
    },
    {
      "cell_type": "markdown",
      "source": [
        "6b exp"
      ],
      "metadata": {
        "id": "UTl9ZKHDx7IR"
      }
    },
    {
      "cell_type": "code",
      "source": [
        "class disjointSet:\n",
        "    def __init__(self, n):  # Corrected the initializer method name to __init__\n",
        "        self.parent = list(range(n))\n",
        "        self.rank = [0] * n\n",
        "\n",
        "    def find(self, u):\n",
        "        if self.parent[u] != u:\n",
        "            self.parent[u] = self.find(self.parent[u])\n",
        "        return self.parent[u]\n",
        "\n",
        "    def union(self, u, v):\n",
        "        root_u = self.find(u)\n",
        "        root_v = self.find(v)\n",
        "        if root_u != root_v:\n",
        "            if self.rank[root_u] > self.rank[root_v]:\n",
        "                self.parent[root_v] = root_u\n",
        "            elif self.rank[root_u] < self.rank[root_v]:\n",
        "                self.parent[root_u] = root_v\n",
        "            else:\n",
        "                self.parent[root_v] = root_u\n",
        "                self.rank[root_u] += 1\n",
        "            return True\n",
        "        return False\n",
        "\n",
        "\n",
        "def kruskal_algorithm(graph, num_vertices):\n",
        "    \"\"\"\n",
        "    Kruskal's algorithm to find the Minimum Spanning Tree (MST) of a graph.\n",
        "\n",
        "    Args:\n",
        "        graph (dict): A dictionary representing the graph where keys are vertices\n",
        "                      and values are lists of (neighbor, weight) tuples.\n",
        "        num_vertices (int): The total number of vertices in the graph.\n",
        "\n",
        "    Returns:\n",
        "        tuple: A tuple containing the MST (list of edges) and the total weight of the MST.\n",
        "    \"\"\"\n",
        "    ds = disjointSet(num_vertices) # Initialize the disjoint set\n",
        "    #ds._init(num_vertices)  # Initialize the disjoint set object.\n",
        "    edges = []\n",
        "    for u in graph:\n",
        "        for v, weight in graph[u]:\n",
        "            edges.append((u, v, weight))\n",
        "    edges.sort(key=lambda edge: edge[2])  # Sort edges by weight\n",
        "    mst = []\n",
        "    total_weight = 0\n",
        "    for u, v, weight in edges:\n",
        "        if ds.union(u, v): # if u and v are not in the same set\n",
        "            mst.append((u, v, weight))\n",
        "            total_weight += weight\n",
        "    return mst, total_weight\n",
        "\n",
        "\n",
        "graph = {\n",
        "    0: [(1, 2), (3, 6)],\n",
        "    1: [(0, 2), (2, 3)],\n",
        "    2: [(1, 3), (3, 7)],\n",
        "    3: [(0, 6), (1, 8)]\n",
        "}\n",
        "num_vertices = 5  #Or len(graph) if all the vertices have atleast on edge\n",
        "mst, total_weight = kruskal_algorithm(graph, num_vertices)  # Call the kruskal_algorithm function\n",
        "\n",
        "\n",
        "print(\"Original Graph:\")\n",
        "for vertex, edges in graph.items():\n",
        "    for neighbor, weight in edges:\n",
        "        print(f\"Edge: {vertex} -> {neighbor} with weight {weight}\")\n",
        "print(\"\\nMST (Minimum Spanning Tree):\")\n",
        "for edge in mst:\n",
        "    print(f\"Edge: {edge[0]} -> {edge[1]} with weight {edge[2]}\")\n",
        "print(f\"\\nTotal weight of the MST: {total_weight}\")"
      ],
      "metadata": {
        "colab": {
          "base_uri": "https://localhost:8080/"
        },
        "id": "rrHEXCMqx67L",
        "outputId": "5965fec5-d2a4-47af-919c-8552f5a226f3"
      },
      "execution_count": 12,
      "outputs": [
        {
          "output_type": "stream",
          "name": "stdout",
          "text": [
            "Original Graph:\n",
            "Edge: 0 -> 1 with weight 2\n",
            "Edge: 0 -> 3 with weight 6\n",
            "Edge: 1 -> 0 with weight 2\n",
            "Edge: 1 -> 2 with weight 3\n",
            "Edge: 2 -> 1 with weight 3\n",
            "Edge: 2 -> 3 with weight 7\n",
            "Edge: 3 -> 0 with weight 6\n",
            "Edge: 3 -> 1 with weight 8\n",
            "\n",
            "MST (Minimum Spanning Tree):\n",
            "Edge: 0 -> 1 with weight 2\n",
            "Edge: 1 -> 2 with weight 3\n",
            "Edge: 0 -> 3 with weight 6\n",
            "\n",
            "Total weight of the MST: 11\n"
          ]
        }
      ]
    },
    {
      "cell_type": "markdown",
      "source": [
        "7a exp"
      ],
      "metadata": {
        "id": "zU_VEYppyIup"
      }
    },
    {
      "cell_type": "code",
      "source": [
        "import heapq\n",
        "def dijkstra_with_paths(graph,start):\n",
        "  pq=[(0,start)]\n",
        "  distances={node:float ('inf') for node in graph}\n",
        "  distances[start]=0\n",
        "  predecessors={node:None for node in graph}\n",
        "  while pq:\n",
        "    current_distance,current_node=heapq.heappop(pq)\n",
        "    if current_distance>distances[current_node]:\n",
        "      continue\n",
        "    for neighbor,weight in graph[current_node].items():\n",
        "        distance=current_distance+weight\n",
        "        if distance<distances[neighbor]:\n",
        "          distances[neighbor]=distance\n",
        "          predecessors[neighbor]=current_node\n",
        "          heapq.heappush(pq,(distance,neighbor))\n",
        "  return distances,predecessors\n",
        "def reconstruct_path(predecessors,start,end):\n",
        "  path=[]\n",
        "  while end is not None:\n",
        "    path.insert(0,end)\n",
        "    end=predecessors[end]\n",
        "  return path if path[0]==start else[]\n",
        "graph={\n",
        "    'A':{'B':2,'C':6},\n",
        "    'B':{'D':3,'E':7},\n",
        "    'C':{'D':1},\n",
        "    'D':{'E':8},\n",
        "    'E':{}\n",
        "  }\n",
        "start_node='A'\n",
        "distances,predecessors=dijkstra_with_paths(graph,start_node)\n",
        "print(f\"source node:{start_node}\\n\")\n",
        "for node in graph:\n",
        "  path=reconstruct_path(predecessors,start_node,node)\n",
        "  path_str=\"->\".join(path)if path else \"No path\"\n",
        "  print(f\"Shortest path from {start_node} to {node}:{path_str} (Distance: {distances[node]})\")"
      ],
      "metadata": {
        "colab": {
          "base_uri": "https://localhost:8080/"
        },
        "id": "pOSKjnkzyIh8",
        "outputId": "84200b42-836e-47f5-b243-37a2404651dc"
      },
      "execution_count": 13,
      "outputs": [
        {
          "output_type": "stream",
          "name": "stdout",
          "text": [
            "source node:A\n",
            "\n",
            "Shortest path from A to A:A (Distance: 0)\n",
            "Shortest path from A to B:A->B (Distance: 2)\n",
            "Shortest path from A to C:A->C (Distance: 6)\n",
            "Shortest path from A to D:A->B->D (Distance: 5)\n",
            "Shortest path from A to E:A->B->E (Distance: 9)\n"
          ]
        }
      ]
    },
    {
      "cell_type": "markdown",
      "source": [
        "7b exp"
      ],
      "metadata": {
        "id": "cTusB_AFyNg-"
      }
    },
    {
      "cell_type": "code",
      "source": [
        "def floyd_warshall(graph):\n",
        "  v=len(graph)\n",
        "  dist=[row[:] for row in graph]\n",
        "  for k in range(v):\n",
        "    for i in range(v):\n",
        "      for j in range(v):\n",
        "        if dist[i][j]>dist[i][k]+dist[k][j]:\n",
        "          dist[i][j]=dist[i][k]+dist[k][j]\n",
        "  return dist\n",
        "def print_solution(dist):\n",
        "  print(\"shortest distance between every pair of vertices:\")\n",
        "  for row in dist:\n",
        "    print(row)\n",
        "INF=float('inf')\n",
        "graph=[\n",
        "    [0,3,INF],\n",
        "    [3,0,INF],\n",
        "    [INF,1,0]\n",
        "]\n",
        "shortest_paths=floyd_warshall(graph)\n",
        "print_solution(shortest_paths)"
      ],
      "metadata": {
        "colab": {
          "base_uri": "https://localhost:8080/"
        },
        "id": "l6k8u4kcyNS9",
        "outputId": "bf3b9229-ea5d-4606-8521-3bd7ef6a9139"
      },
      "execution_count": 14,
      "outputs": [
        {
          "output_type": "stream",
          "name": "stdout",
          "text": [
            "shortest distance between every pair of vertices:\n",
            "[0, 3, inf]\n",
            "[3, 0, inf]\n",
            "[4, 1, 0]\n"
          ]
        }
      ]
    },
    {
      "cell_type": "markdown",
      "source": [
        "8 exp"
      ],
      "metadata": {
        "id": "kwKWeszGyTb8"
      }
    },
    {
      "cell_type": "markdown",
      "source": [],
      "metadata": {
        "id": "yZ7MrMenyTB3"
      }
    },
    {
      "cell_type": "code",
      "source": [
        "from collections import defaultdict\n",
        "\n",
        "# Ford-Fulkerson using DFS\n",
        "class FordFulkerson:\n",
        "    def __init__(self, graph):  # Changed _init to __init__\n",
        "        self.graph = graph  # Original graph (capacity)\n",
        "        self.residual_graph = defaultdict(dict)  # Residual graph\n",
        "        self.build_residual_graph()\n",
        "\n",
        "    def build_residual_graph(self):\n",
        "        for u in self.graph:\n",
        "            for v in self.graph[u]:\n",
        "                self.residual_graph[u][v] = self.graph[u][v]\n",
        "                if v not in self.residual_graph:\n",
        "                    self.residual_graph[v] = {}\n",
        "\n",
        "    def dfs(self, u, t, visited, parent):\n",
        "        visited.add(u)\n",
        "        if u == t:\n",
        "            return True\n",
        "        for v, capacity in self.residual_graph[u].items():\n",
        "            if v not in visited and capacity > 0:\n",
        "                parent[v] = u\n",
        "                if self.dfs(v, t, visited, parent):\n",
        "                    return True\n",
        "        return False\n",
        "\n",
        "    def find_path(self, parent, source, sink):\n",
        "        path = []  # Fixed: Removed extra indentation\n",
        "        node = sink  # Fixed: Removed extra indentation\n",
        "        while node != source:\n",
        "            path.insert(0, node)\n",
        "            node = parent[node]\n",
        "        path.insert(0, source)\n",
        "        return path\n",
        "\n",
        "    def max_flow(self, source, sink):\n",
        "        parent = {}\n",
        "        max_flow = 0\n",
        "        print(f\"Source: {source}, Sink: {sink}\")\n",
        "        print(\"Finding augmenting paths...\\n\")\n",
        "\n",
        "        while self.dfs(source, sink, set(), parent):\n",
        "            # Find minimum residual capacity in the path\n",
        "            path_flow = float('inf')\n",
        "            s = sink\n",
        "            while s != source:\n",
        "                path_flow = min(path_flow, self.residual_graph[parent[s]][s])\n",
        "                s = parent[s]\n",
        "\n",
        "            # Update residual graph\n",
        "            v = sink\n",
        "            while v != source:\n",
        "                u = parent[v]\n",
        "                self.residual_graph[u][v] -= path_flow\n",
        "                self.residual_graph[v][u] = self.residual_graph[v].get(u, 0) + path_flow\n",
        "                v = parent[v]\n",
        "\n",
        "            augmenting_path = self.find_path(parent, source, sink)\n",
        "            print(f\"Augmenting path: {' -> '.join(augmenting_path)} | Path flow: {path_flow}\")\n",
        "\n",
        "            max_flow += path_flow\n",
        "            parent.clear()\n",
        "\n",
        "        print(f\"\\nMaximum possible flow from {source} to {sink}: {max_flow}\")\n",
        "\n",
        "# ---------- Example graph -------------\n",
        "graph = {\n",
        "    'S': {'A': 10, 'C': 10},\n",
        "    'A': {'B': 4, 'C': 2},\n",
        "    'B': {'T': 10},\n",
        "    'C': {'D': 9},\n",
        "    'D': {'B': 6, 'T': 10},\n",
        "    'T': {}\n",
        "}\n",
        "\n",
        "# Run Ford-Fulkerson Algorithm\n",
        "ff = FordFulkerson(graph)\n",
        "ff.max_flow('S', 'T')"
      ],
      "metadata": {
        "colab": {
          "base_uri": "https://localhost:8080/"
        },
        "id": "bJODs3LAyS2K",
        "outputId": "d9276e35-ff72-4949-c3c3-17f87eadcf7f"
      },
      "execution_count": 16,
      "outputs": [
        {
          "output_type": "stream",
          "name": "stdout",
          "text": [
            "Source: S, Sink: T\n",
            "Finding augmenting paths...\n",
            "\n",
            "Augmenting path: S -> A -> B -> T | Path flow: 4\n",
            "Augmenting path: S -> A -> C -> D -> B -> T | Path flow: 2\n",
            "Augmenting path: S -> C -> D -> B -> T | Path flow: 4\n",
            "Augmenting path: S -> C -> D -> T | Path flow: 3\n",
            "\n",
            "Maximum possible flow from S to T: 13\n"
          ]
        }
      ]
    },
    {
      "cell_type": "markdown",
      "source": [
        "9 exp"
      ],
      "metadata": {
        "id": "GDJ5U0bFyiaJ"
      }
    },
    {
      "cell_type": "code",
      "source": [
        "import random\n",
        "\n",
        "def randomized_partition(arr, low, high):\n",
        "    rand_index = random.randint(low, high)\n",
        "    arr[high], arr[rand_index] = arr[rand_index], arr[high]\n",
        "    return partition(arr, low, high)\n",
        "\n",
        "def partition(arr, low, high):\n",
        "    pivot = arr[high]\n",
        "    i = low - 1\n",
        "\n",
        "    for j in range(low, high):\n",
        "        if arr[j] <= pivot:\n",
        "            i += 1\n",
        "            arr[i], arr[j] = arr[j], arr[i]\n",
        "\n",
        "    arr[i + 1], arr[high] = arr[high], arr[i + 1]\n",
        "    return i + 1\n",
        "\n",
        "def randomized_quick_sort(arr, low, high):\n",
        "    if low < high:\n",
        "        pi = randomized_partition(arr, low, high)\n",
        "        randomized_quick_sort(arr, low, pi - 1)\n",
        "        randomized_quick_sort(arr, pi + 1, high)\n",
        "\n",
        "# Sample array\n",
        "arr = [10, 7, 8, 9, 1, 5]\n",
        "\n",
        "print(\"Original array:\", arr)\n",
        "randomized_quick_sort(arr, 0, len(arr) - 1)\n",
        "print(\"Sorted array:  \", arr)"
      ],
      "metadata": {
        "colab": {
          "base_uri": "https://localhost:8080/"
        },
        "id": "17UIJPlOyiLx",
        "outputId": "f3bfc283-e17b-4872-bd17-965bff13b70b"
      },
      "execution_count": 17,
      "outputs": [
        {
          "output_type": "stream",
          "name": "stdout",
          "text": [
            "Original array: [10, 7, 8, 9, 1, 5]\n",
            "Sorted array:   [1, 5, 7, 8, 9, 10]\n"
          ]
        }
      ]
    },
    {
      "cell_type": "markdown",
      "source": [
        "10 exp"
      ],
      "metadata": {
        "id": "FG-CspQkyncf"
      }
    },
    {
      "cell_type": "code",
      "source": [
        "def approx_vertex_cover(graph):\n",
        "    visited_edges = set()\n",
        "    vertex_cover = set()\n",
        "\n",
        "    for u in graph:\n",
        "        for v in graph[u]:\n",
        "            if (u, v) not in visited_edges and (v, u) not in visited_edges:\n",
        "                # Add both vertices of the edge to the cover\n",
        "                vertex_cover.add(u)\n",
        "                vertex_cover.add(v)\n",
        "\n",
        "                # Mark all edges from u and v as visited\n",
        "                for neighbor in graph[u]:\n",
        "                    visited_edges.add((u, neighbor))\n",
        "                    visited_edges.add((neighbor, u))\n",
        "                for neighbor in graph[v]:\n",
        "                    visited_edges.add((v, neighbor))\n",
        "                    visited_edges.add((neighbor, v))\n",
        "                break  # Move on to next edge group\n",
        "\n",
        "    return vertex_cover\n",
        "\n",
        "# Example usage\n",
        "graph = {\n",
        "    0: [1, 2],\n",
        "    1: [0, 2],\n",
        "    2: [0, 1, 3],\n",
        "    3: [2, 4],\n",
        "    4: [3]\n",
        "}\n",
        "\n",
        "vertex_cover = approx_vertex_cover(graph)\n",
        "print(\"Approximate Vertex Cover:\", vertex_cover)\n",
        "print(\"Size of cover:\", len(vertex_cover))"
      ],
      "metadata": {
        "colab": {
          "base_uri": "https://localhost:8080/"
        },
        "id": "GeBxi9daynNb",
        "outputId": "8f7a7fef-5b68-4020-a871-f06178bba5d0"
      },
      "execution_count": 18,
      "outputs": [
        {
          "output_type": "stream",
          "name": "stdout",
          "text": [
            "Approximate Vertex Cover: {0, 1, 2, 3}\n",
            "Size of cover: 4\n"
          ]
        }
      ]
    }
  ]
}